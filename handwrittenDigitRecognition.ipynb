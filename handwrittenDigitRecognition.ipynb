{
 "cells": [
  {
   "cell_type": "code",
   "execution_count": 42,
   "id": "80527cc1-77e8-4ad8-81ac-d016209882cf",
   "metadata": {},
   "outputs": [],
   "source": [
    "import numpy as np"
   ]
  },
  {
   "cell_type": "code",
   "execution_count": 43,
   "id": "3e931953-32d3-45ef-abc4-606ddf24133b",
   "metadata": {},
   "outputs": [],
   "source": [
    "import matplotlib.pyplot as plt"
   ]
  },
  {
   "cell_type": "code",
   "execution_count": 44,
   "id": "5026d945-10d6-46e1-bf63-d92ad94ae9ee",
   "metadata": {},
   "outputs": [],
   "source": [
    "X_train = np.loadtxt(r\"C:/Users/KIIT/Documents/HandwrittenDigitRecognition/train_X.csv\", delimiter=',').T\n",
    "Y_train=np.loadtxt(r\"C:/Users/KIIT/Documents/HandwrittenDigitRecognition/train_label.csv\", delimiter=',').T"
   ]
  },
  {
   "cell_type": "code",
   "execution_count": 45,
   "id": "c519a004-401d-4b0e-8b94-311e70851589",
   "metadata": {},
   "outputs": [],
   "source": [
    "X_test=np.loadtxt(r\"C:/Users/KIIT/Documents/HandwrittenDigitRecognition/test_X.csv\", delimiter=',').T\n",
    "Y_test=np.loadtxt(r\"C:/Users/KIIT/Documents/HandwrittenDigitRecognition/test_label.csv\", delimiter=',').T"
   ]
  },
  {
   "cell_type": "code",
   "execution_count": 46,
   "id": "e49eaad9-6cb3-4829-82f2-3a7a68625b0c",
   "metadata": {},
   "outputs": [
    {
     "name": "stdout",
     "output_type": "stream",
     "text": [
      "shape of X_train is  (784, 1000)\n"
     ]
    }
   ],
   "source": [
    "print(\"shape of X_train is \",X_train.shape) #1000 represents amount of data ,350 in test data X#"
   ]
  },
  {
   "cell_type": "code",
   "execution_count": 47,
   "id": "f116628f-12af-4913-863d-47753c3c6631",
   "metadata": {},
   "outputs": [
    {
     "data": {
      "text/plain": [
       "(10, 1000)"
      ]
     },
     "execution_count": 47,
     "metadata": {},
     "output_type": "execute_result"
    }
   ],
   "source": [
    "Y_train.shape"
   ]
  },
  {
   "cell_type": "code",
   "execution_count": 85,
   "id": "98c1e252-5bff-4228-9fcd-f28343a525b2",
   "metadata": {},
   "outputs": [
    {
     "data": {
      "image/png": "[encoded data removed]",
      "text/plain": [
       "<Figure size 640x480 with 1 Axes>"
      ]
     },
     "metadata": {},
     "output_type": "display_data"
    }
   ],
   "source": [
    "import random\n",
    "\n",
    "index=random.randrange(0,X_train.shape[1])\n",
    "plt.imshow(X_train[:,index].reshape(28,28),cmap='grey')\n",
    "plt.show()"
   ]
  },
  {
   "cell_type": "code",
   "execution_count": 86,
   "id": "44caba26-1254-44e2-9563-e4ca6bad8eea",
   "metadata": {},
   "outputs": [],
   "source": [
    "def tanh(x):\n",
    "    return np.tanh(x)\n",
    "def relu(x):\n",
    "    return np.maximum(x,0)\n",
    "def softmax(x):\n",
    "    expX=np.exp(x)\n",
    "    return expX/np.sum(expX,axis=0)"
   ]
  },
  {
   "cell_type": "code",
   "execution_count": 99,
   "id": "262cc754-5af1-4b40-a234-2df7cb5930a2",
   "metadata": {},
   "outputs": [],
   "source": [
    "def derivative_tanh(x):\n",
    "    return (1-np.power(np.tanh(x),2))\n",
    "def derivative_relu(x):\n",
    "    return np.array(x>0,dtype=np.float32)\n",
    "    \n",
    "    "
   ]
  },
  {
   "cell_type": "code",
   "execution_count": 100,
   "id": "5a132900-78bd-4cd6-b55f-5d4e4f6f5131",
   "metadata": {},
   "outputs": [],
   "source": [
    "\n",
    "def initialize_parameters(n_x, n_h, n_y):\n",
    "    w1 = np.random.randn(n_h, n_x) * 0.01  # Random weights (4x3)\n",
    "    b1 = np.zeros((n_h, 1))               # Bias vector (4x1)\n",
    "    w2 = np.random.randn(n_y, n_h) * 0.01 # Random weights (2x4)\n",
    "    b2 = np.zeros((n_y, 1))               # Bias vector (2x1)\n",
    "    \n",
    "    parameter = {\n",
    "        \"w1\": w1,\n",
    "        \"b1\": b1,\n",
    "        \"w2\": w2,\n",
    "        \"b2\": b2,\n",
    "    }\n",
    "    return parameter"
   ]
  },
  {
   "cell_type": "markdown",
   "id": "918c1f59-7275-47f2-bb5d-29df8a8efb03",
   "metadata": {},
   "source": [
    "## forward propogation\n",
    "## z1=W1*X +b1\n",
    "## A1=f(Z1)\n",
    "## Z2=W2*A1+B2\n",
    "## A2=softmax(Z2)"
   ]
  },
  {
   "cell_type": "code",
   "execution_count": 101,
   "id": "423b0608-b7c0-4523-9b34-ef72082796e0",
   "metadata": {},
   "outputs": [],
   "source": [
    "def forward_propagation(x,parameters):\n",
    "    w1=parameters['w1']\n",
    "    b1=parameters['b1']\n",
    "    w2=parameters['w2']\n",
    "    b2=parameters['b2']\n",
    "    z1=np.dot(w1,x)+b1\n",
    "    a1=tanh(z1)\n",
    "    z2=np.dot(w2,a1)+b2\n",
    "    a2=softmax(z2)\n",
    "    forward_cache={\n",
    "        \"z1\":z1,\n",
    "        \"a1\":a1,\n",
    "        \"z2\":z2,\n",
    "        \"a2\":a2,\n",
    "        \n",
    "    }\n",
    "    return forward_cache"
   ]
  },
  {
   "cell_type": "markdown",
   "id": "71818e6a-6701-41a1-8b22-c1e1b69ccba2",
   "metadata": {},
   "source": [
    "## cost function"
   ]
  },
  {
   "cell_type": "code",
   "execution_count": 102,
   "id": "cd15f661-3467-4eb7-bd9f-8bd9498fafbb",
   "metadata": {},
   "outputs": [],
   "source": [
    "def cost_function(a2,y):\n",
    "     m=y.shape[1]\n",
    "     cost=-(1/m)*np.sum(y*np.log(a2))\n",
    "     #cost=-(1/m)*np.sum(np.sum(y*np.log(a2,0),1))\n",
    "     return cost"
   ]
  },
  {
   "cell_type": "markdown",
   "id": "848a910a-9803-4c85-8b2c-cf85c8676f36",
   "metadata": {},
   "source": [
    "# backpropogation"
   ]
  },
  {
   "cell_type": "code",
   "execution_count": 103,
   "id": "1c98bbdc-1c6a-472b-a8f7-dcb9427776ac",
   "metadata": {},
   "outputs": [],
   "source": [
    "def backward_prop(x, y, parameters, forward_cache):\n",
    "    \n",
    "    w1 = parameters['w1']\n",
    "    b1 = parameters['b1']\n",
    "    w2 = parameters['w2']\n",
    "    b2 = parameters['b2']\n",
    "    \n",
    "    a1 = forward_cache['a1']\n",
    "    a2 = forward_cache['a2']\n",
    "    \n",
    "    m = x.shape[1]\n",
    "    \n",
    "    dz2 = (a2 - y)\n",
    "    dw2 = (1/m)*np.dot(dz2, a1.T)\n",
    "    db2 = (1/m)*np.sum(dz2, axis = 1, keepdims = True)\n",
    "    \n",
    "    dz1 = (1/m)*np.dot(w2.T, dz2)*derivative_tanh(a1)\n",
    "    dw1 = (1/m)*np.dot(dz1, x.T)\n",
    "    db1 = (1/m)*np.sum(dz1, axis = 1, keepdims = True)\n",
    "    \n",
    "    gradients = {\n",
    "        \"dw1\" : dw1,\n",
    "        \"db1\" : db1,\n",
    "        \"dw2\" : dw2,\n",
    "        \"db2\" : db2\n",
    "    }\n",
    "    \n",
    "    return gradients"
   ]
  },
  {
   "cell_type": "code",
   "execution_count": 104,
   "id": "56b68f71-7c11-4a9a-b2e1-b48c9518fb7c",
   "metadata": {},
   "outputs": [],
   "source": [
    "def update_parameters(parameters, gradients, learning_rate):\n",
    "    \n",
    "    w1 = parameters['w1']\n",
    "    b1 = parameters['b1']\n",
    "    w2 = parameters['w2']\n",
    "    b2 = parameters['b2']\n",
    "    \n",
    "    dw1 = gradients['dw1']\n",
    "    db1 = gradients['db1']\n",
    "    dw2 = gradients['dw2']\n",
    "    db2 = gradients['db2']\n",
    "    \n",
    "    w1 = w1 - learning_rate*dw1\n",
    "    b1 = b1 - learning_rate*db1\n",
    "    w2 = w2 - learning_rate*dw2\n",
    "    b2 = b2 - learning_rate*db2\n",
    "    \n",
    "    parameters = {\n",
    "        \"w1\" : w1,\n",
    "        \"b1\" : b1,\n",
    "        \"w2\" : w2,\n",
    "        \"b2\" : b2\n",
    "    }\n",
    "    \n",
    "    return parameters"
   ]
  },
  {
   "cell_type": "code",
   "execution_count": 105,
   "id": "13ffe960-77d0-4cee-8908-87429ed9b85d",
   "metadata": {},
   "outputs": [],
   "source": [
    "def model(x, y, n_h, learning_rate, iterations):\n",
    "    \n",
    "    n_x = x.shape[0]\n",
    "    n_y = y.shape[0]\n",
    "    \n",
    "    cost_list = []\n",
    "    \n",
    "    parameters = initialize_parameters(n_x, n_h, n_y)\n",
    "    \n",
    "    for i in range(iterations):\n",
    "        \n",
    "        forward_cache = forward_propagation(x, parameters)\n",
    "        \n",
    "        cost = cost_function(forward_cache['a2'], y)\n",
    "        \n",
    "        gradients = backward_prop(x, y, parameters, forward_cache)\n",
    "        \n",
    "        parameters = update_parameters(parameters, gradients, learning_rate)\n",
    "        \n",
    "        cost_list.append(cost)\n",
    "        \n",
    "        if(i%(iterations/10) == 0):\n",
    "            print(\"Cost after\", i, \"iterations is :\", cost)\n",
    "        \n",
    "    return parameters, cost_list"
   ]
  },
  {
   "cell_type": "code",
   "execution_count": 115,
   "id": "299f6fb0-65d3-4ce7-afbe-b4b084bef45a",
   "metadata": {},
   "outputs": [
    {
     "name": "stdout",
     "output_type": "stream",
     "text": [
      "Cost after 0 iterations is : 2.3749619392021013\n",
      "Cost after 10 iterations is : 1.6483609521870672\n",
      "Cost after 20 iterations is : 1.2651199124777845\n",
      "Cost after 30 iterations is : 1.0383797478550578\n",
      "Cost after 40 iterations is : 0.8909039851185211\n",
      "Cost after 50 iterations is : 0.7873765104293934\n",
      "Cost after 60 iterations is : 0.7103110411200999\n",
      "Cost after 70 iterations is : 0.6503158958896109\n",
      "Cost after 80 iterations is : 0.6019662597125172\n",
      "Cost after 90 iterations is : 0.5619286220135292\n"
     ]
    }
   ],
   "source": [
    "iterations = 100\n",
    "n_h = 1000\n",
    "learning_rate = 0.009\n",
    "Parameters, Cost_list = model(X_train, Y_train, n_h = n_h, learning_rate = learning_rate, iterations = iterations)"
   ]
  },
  {
   "cell_type": "code",
   "execution_count": 116,
   "id": "bce5eb3a-58ce-4857-a7c7-9fa0e74a9967",
   "metadata": {},
   "outputs": [
    {
     "data": {
      "image/png": "[encoded data removed]",
      "text/plain": [
       "<Figure size 640x480 with 1 Axes>"
      ]
     },
     "metadata": {},
     "output_type": "display_data"
    }
   ],
   "source": [
    "t = np.arange(0, iterations)\n",
    "plt.plot(t, Cost_list)\n",
    "plt.show()"
   ]
  },
  {
   "cell_type": "code",
   "execution_count": 117,
   "id": "9a30e92a-6922-4afe-a08a-de158e12c1ac",
   "metadata": {},
   "outputs": [],
   "source": [
    "def accuracy(inp, labels, parameters):\n",
    "    forward_cache = forward_propagation(inp, parameters)\n",
    "    a_out = forward_cache['a2']   # containes propabilities with shape(10, 1)\n",
    "    \n",
    "    a_out = np.argmax(a_out, 0)  # 0 represents row wise \n",
    "    \n",
    "    labels = np.argmax(labels, 0)\n",
    "    \n",
    "    acc = np.mean(a_out == labels)*100\n",
    "    \n",
    "    return acc"
   ]
  },
  {
   "cell_type": "code",
   "execution_count": 118,
   "id": "1dad6ceb-9e4d-4232-b1e4-bd789bc3c92a",
   "metadata": {},
   "outputs": [
    {
     "name": "stdout",
     "output_type": "stream",
     "text": [
      "Accuracy of Train Dataset 90.8 %\n",
      "Accuracy of Test Dataset 83.14 %\n"
     ]
    }
   ],
   "source": [
    "print(\"Accuracy of Train Dataset\", accuracy(X_train, Y_train, Parameters), \"%\")\n",
    "print(\"Accuracy of Test Dataset\", round(accuracy(X_test, Y_test, Parameters), 2), \"%\")"
   ]
  },
  {
   "cell_type": "code",
   "execution_count": 123,
   "id": "127cbbf7-bf13-4651-8074-5bd3c90e972b",
   "metadata": {},
   "outputs": [
    {
     "data": {
      "image/png": "[encoded data removed]",
      "text/plain": [
       "<Figure size 640x480 with 1 Axes>"
      ]
     },
     "metadata": {},
     "output_type": "display_data"
    },
    {
     "name": "stdout",
     "output_type": "stream",
     "text": [
      "Our model says it is : 4\n"
     ]
    }
   ],
   "source": [
    "\n",
    "idx = int(random.randrange(0,X_test.shape[1]))\n",
    "plt.imshow(X_test[:, idx].reshape((28,28)),cmap='gray')\n",
    "plt.show()\n",
    "\n",
    "cache = forward_propagation(X_test[:, idx].reshape(X_test[:, idx].shape[0], 1), Parameters)\n",
    "a_pred = cache['a2']  \n",
    "a_pred = np.argmax(a_pred, 0)\n",
    "\n",
    "print(\"Our model says it is :\", a_pred[0])"
   ]
  }
 ],
 "metadata": {
  "kernelspec": {
   "display_name": "Python 3 (ipykernel)",
   "language": "python",
   "name": "python3"
  },
  "language_info": {
   "codemirror_mode": {
    "name": "ipython",
    "version": 3
   },
   "file_extension": ".py",
   "mimetype": "text/x-python",
   "name": "python",
   "nbconvert_exporter": "python",
   "pygments_lexer": "ipython3",
   "version": "3.12.5"
  }
 },
 "nbformat": 4,
 "nbformat_minor": 5
}
